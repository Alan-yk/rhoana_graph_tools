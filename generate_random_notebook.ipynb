{
 "cells": [
  {
   "cell_type": "code",
   "execution_count": 1,
   "metadata": {},
   "outputs": [],
   "source": [
    "import networkx as nx\n",
    "import numpy as np\n",
    "import graph_utils\n",
    "import utils\n",
    "import itertools\n",
    "import math\n",
    "import time\n",
    "from generate_graphs import *"
   ]
  },
  {
   "cell_type": "code",
   "execution_count": 2,
   "metadata": {},
   "outputs": [],
   "source": [
    "motif = np.array([[0, 1, 1, 0], [0, 0, 1, 0], [0, 1, 0, 0], [0, 1, 1, 0]])"
   ]
  },
  {
   "cell_type": "code",
   "execution_count": 3,
   "metadata": {},
   "outputs": [],
   "source": [
    "g_motif_small = random_with_min_motif_freq(motif, 90, 100)  # At least 90 occurences of this motif\n",
    "\n",
    "g_motif_medium = random_with_min_motif_freq(motif, 900, 1000)  # At least 900 occurences of this motif\n",
    "\n",
    "g_gauss_small, *_ = random_gaussian_preferential_by_dist(300, 0.12, 1, max_error=0.01)\n",
    "\n",
    "g_gauss_medium, *_ = random_gaussian_preferential_by_dist(1000, 0.09, 1, max_error=0.01)\n",
    "\n",
    "# g_gauss_large = random_gaussian_preferential_by_dist(10000, 0.06, 1, max_error=0.02)"
   ]
  },
  {
   "cell_type": "code",
   "execution_count": 4,
   "metadata": {},
   "outputs": [],
   "source": [
    "edge_list_motif_s = graph_utils.adj_matrix_to_edge_list(g_motif_small)\n",
    "edge_list_motif_m = graph_utils.adj_matrix_to_edge_list(g_motif_medium)\n",
    "edge_list_gauss_s = graph_utils.adj_matrix_to_edge_list(g_gauss_small)\n",
    "edge_list_gauss_m = graph_utils.adj_matrix_to_edge_list(g_gauss_medium)"
   ]
  },
  {
   "cell_type": "code",
   "execution_count": 5,
   "metadata": {},
   "outputs": [],
   "source": [
    "# Save all the edges to a text file with .edges suffix\n",
    "graph_utils.edge_list_to_textfile(edge_list_motif_s, \"datasets/motif_s.edges\")\n",
    "graph_utils.edge_list_to_textfile(edge_list_motif_m, \"datasets/motif_m.edges\")\n",
    "graph_utils.edge_list_to_textfile(edge_list_gauss_s, \"datasets/gauss_s.edges\")\n",
    "graph_utils.edge_list_to_textfile(edge_list_gauss_m, \"datasets/gauss_m.edges\")"
   ]
  },
  {
   "cell_type": "code",
   "execution_count": null,
   "metadata": {},
   "outputs": [],
   "source": [
    ""
   ]
  }
 ],
 "metadata": {
  "kernelspec": {
   "display_name": "Python 3",
   "language": "python",
   "name": "python3"
  },
  "language_info": {
   "codemirror_mode": {
    "name": "ipython",
    "version": 3.0
   },
   "file_extension": ".py",
   "mimetype": "text/x-python",
   "name": "python",
   "nbconvert_exporter": "python",
   "pygments_lexer": "ipython3",
   "version": "3.6.4"
  }
 },
 "nbformat": 4,
 "nbformat_minor": 0
}